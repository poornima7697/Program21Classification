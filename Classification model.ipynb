{
 "cells": [
  {
   "cell_type": "code",
   "execution_count": 39,
   "id": "f15749cf",
   "metadata": {},
   "outputs": [],
   "source": [
    "import findspark\n",
    "findspark.init()\n"
   ]
  },
  {
   "cell_type": "code",
   "execution_count": 40,
   "id": "9b0bc76c",
   "metadata": {},
   "outputs": [],
   "source": [
    "import pyspark \n",
    "from pyspark.sql import SparkSession\n",
    "spark=SparkSession.builder.appName(\"StudyApp\").getOrCreate()\n"
   ]
  },
  {
   "cell_type": "code",
   "execution_count": 41,
   "id": "15b52159",
   "metadata": {},
   "outputs": [
    {
     "name": "stdout",
     "output_type": "stream",
     "text": [
      "+-----------+----------+-----------+----------+-------+\n",
      "|sepallength|sepalwidth|petallength|petalwidth|variety|\n",
      "+-----------+----------+-----------+----------+-------+\n",
      "|        5.1|       3.5|        1.4|       0.2| Setosa|\n",
      "|        4.9|       3.0|        1.4|       0.2| Setosa|\n",
      "|        4.7|       3.2|        1.3|       0.2| Setosa|\n",
      "|        4.6|       3.1|        1.5|       0.2| Setosa|\n",
      "|        5.0|       3.6|        1.4|       0.2| Setosa|\n",
      "+-----------+----------+-----------+----------+-------+\n",
      "only showing top 5 rows\n",
      "\n"
     ]
    },
    {
     "data": {
      "text/plain": [
       "<bound method DataFrame.count of DataFrame[sepallength: double, sepalwidth: double, petallength: double, petalwidth: double, variety: string]>"
      ]
     },
     "execution_count": 41,
     "metadata": {},
     "output_type": "execute_result"
    }
   ],
   "source": [
    "df=spark.read.csv(\"D:\\iris.csv\",header=True,inferSchema=True)\n",
    "df.show(5)\n",
    "df.count"
   ]
  },
  {
   "cell_type": "code",
   "execution_count": 42,
   "id": "70d821f6",
   "metadata": {},
   "outputs": [
    {
     "name": "stdout",
     "output_type": "stream",
     "text": [
      "root\n",
      " |-- sepallength: double (nullable = true)\n",
      " |-- sepalwidth: double (nullable = true)\n",
      " |-- petallength: double (nullable = true)\n",
      " |-- petalwidth: double (nullable = true)\n",
      " |-- variety: string (nullable = true)\n",
      "\n",
      "+----------+\n",
      "|   variety|\n",
      "+----------+\n",
      "| Virginica|\n",
      "|    Setosa|\n",
      "|Versicolor|\n",
      "+----------+\n",
      "\n"
     ]
    },
    {
     "data": {
      "text/plain": [
       "['sepallength', 'sepalwidth', 'petallength', 'petalwidth']"
      ]
     },
     "execution_count": 42,
     "metadata": {},
     "output_type": "execute_result"
    }
   ],
   "source": [
    "df.printSchema()\n",
    "df.select('variety').distinct().show()\n",
    "df.columns[:4]"
   ]
  },
  {
   "cell_type": "code",
   "execution_count": 43,
   "id": "c84ce24c",
   "metadata": {},
   "outputs": [],
   "source": [
    "#formating\n",
    "from pyspark.ml.feature import VectorAssembler \n",
    "from pyspark.ml.feature import StringIndexer\n"
   ]
  },
  {
   "cell_type": "code",
   "execution_count": 44,
   "id": "86d33790",
   "metadata": {},
   "outputs": [
    {
     "name": "stdout",
     "output_type": "stream",
     "text": [
      "+-----------+----------+-----------+----------+-------+-----------+-----------------+\n",
      "|sepallength|sepalwidth|petallength|petalwidth|variety|variety_num|    Input Feature|\n",
      "+-----------+----------+-----------+----------+-------+-----------+-----------------+\n",
      "|        5.1|       3.5|        1.4|       0.2| Setosa|        0.0|[5.1,3.5,1.4,0.2]|\n",
      "|        4.9|       3.0|        1.4|       0.2| Setosa|        0.0|[4.9,3.0,1.4,0.2]|\n",
      "|        4.7|       3.2|        1.3|       0.2| Setosa|        0.0|[4.7,3.2,1.3,0.2]|\n",
      "|        4.6|       3.1|        1.5|       0.2| Setosa|        0.0|[4.6,3.1,1.5,0.2]|\n",
      "|        5.0|       3.6|        1.4|       0.2| Setosa|        0.0|[5.0,3.6,1.4,0.2]|\n",
      "|        5.4|       3.9|        1.7|       0.4| Setosa|        0.0|[5.4,3.9,1.7,0.4]|\n",
      "|        4.6|       3.4|        1.4|       0.3| Setosa|        0.0|[4.6,3.4,1.4,0.3]|\n",
      "|        5.0|       3.4|        1.5|       0.2| Setosa|        0.0|[5.0,3.4,1.5,0.2]|\n",
      "|        4.4|       2.9|        1.4|       0.2| Setosa|        0.0|[4.4,2.9,1.4,0.2]|\n",
      "|        4.9|       3.1|        1.5|       0.1| Setosa|        0.0|[4.9,3.1,1.5,0.1]|\n",
      "|        5.4|       3.7|        1.5|       0.2| Setosa|        0.0|[5.4,3.7,1.5,0.2]|\n",
      "|        4.8|       3.4|        1.6|       0.2| Setosa|        0.0|[4.8,3.4,1.6,0.2]|\n",
      "|        4.8|       3.0|        1.4|       0.1| Setosa|        0.0|[4.8,3.0,1.4,0.1]|\n",
      "|        4.3|       3.0|        1.1|       0.1| Setosa|        0.0|[4.3,3.0,1.1,0.1]|\n",
      "|        5.8|       4.0|        1.2|       0.2| Setosa|        0.0|[5.8,4.0,1.2,0.2]|\n",
      "|        5.7|       4.4|        1.5|       0.4| Setosa|        0.0|[5.7,4.4,1.5,0.4]|\n",
      "|        5.4|       3.9|        1.3|       0.4| Setosa|        0.0|[5.4,3.9,1.3,0.4]|\n",
      "|        5.1|       3.5|        1.4|       0.3| Setosa|        0.0|[5.1,3.5,1.4,0.3]|\n",
      "|        5.7|       3.8|        1.7|       0.3| Setosa|        0.0|[5.7,3.8,1.7,0.3]|\n",
      "|        5.1|       3.8|        1.5|       0.3| Setosa|        0.0|[5.1,3.8,1.5,0.3]|\n",
      "+-----------+----------+-----------+----------+-------+-----------+-----------------+\n",
      "only showing top 20 rows\n",
      "\n"
     ]
    }
   ],
   "source": [
    "va=VectorAssembler(inputCols=df.columns[:4],outputCol='Input Feature')\n",
    "indexer=StringIndexer(inputCol='variety',outputCol='variety_num')#conver into integer\n",
    "df1=indexer.fit(df).transform(df)\n",
    "df2=va.transform(df1)\n",
    "df2.show()"
   ]
  },
  {
   "cell_type": "code",
   "execution_count": 45,
   "id": "e384d0c6",
   "metadata": {},
   "outputs": [
    {
     "name": "stdout",
     "output_type": "stream",
     "text": [
      "+-----------------+-----------+\n",
      "|    Input Feature|variety_num|\n",
      "+-----------------+-----------+\n",
      "|[5.1,3.5,1.4,0.2]|        0.0|\n",
      "|[4.9,3.0,1.4,0.2]|        0.0|\n",
      "|[4.7,3.2,1.3,0.2]|        0.0|\n",
      "|[4.6,3.1,1.5,0.2]|        0.0|\n",
      "|[5.0,3.6,1.4,0.2]|        0.0|\n",
      "+-----------------+-----------+\n",
      "only showing top 5 rows\n",
      "\n"
     ]
    }
   ],
   "source": [
    "finaldata=df2.select('Input Feature',\"variety_num\")\n",
    "finaldata.show(5)"
   ]
  },
  {
   "cell_type": "code",
   "execution_count": 46,
   "id": "ef975901",
   "metadata": {},
   "outputs": [],
   "source": [
    "train,test=finaldata.randomSplit([0.70,0.30])"
   ]
  },
  {
   "cell_type": "code",
   "execution_count": 47,
   "id": "8c9da1bf",
   "metadata": {},
   "outputs": [],
   "source": [
    "from pyspark.ml.classification import DecisionTreeClassifier\n",
    "dtcmodel=DecisionTreeClassifier(labelCol=\"variety_num\",featuresCol=\"Input Feature\")\n",
    "model=dtcmodel.fit(train)"
   ]
  },
  {
   "cell_type": "code",
   "execution_count": 48,
   "id": "1168cafe",
   "metadata": {},
   "outputs": [
    {
     "data": {
      "text/plain": [
       "DecisionTreeClassificationModel: uid=DecisionTreeClassifier_ccef6404e29b, depth=5, numNodes=15, numClasses=3, numFeatures=4"
      ]
     },
     "execution_count": 48,
     "metadata": {},
     "output_type": "execute_result"
    }
   ],
   "source": [
    "model"
   ]
  },
  {
   "cell_type": "code",
   "execution_count": 49,
   "id": "116343fe",
   "metadata": {},
   "outputs": [],
   "source": [
    "prediction_result=model.transform(test)"
   ]
  },
  {
   "cell_type": "code",
   "execution_count": 50,
   "id": "d6664774",
   "metadata": {},
   "outputs": [
    {
     "name": "stdout",
     "output_type": "stream",
     "text": [
      "+-----------------+-----------+--------------+-------------+----------+\n",
      "|    Input Feature|variety_num| rawPrediction|  probability|prediction|\n",
      "+-----------------+-----------+--------------+-------------+----------+\n",
      "|[4.4,3.2,1.3,0.2]|        0.0|[36.0,0.0,0.0]|[1.0,0.0,0.0]|       0.0|\n",
      "|[4.6,3.1,1.5,0.2]|        0.0|[36.0,0.0,0.0]|[1.0,0.0,0.0]|       0.0|\n",
      "|[4.7,3.2,1.3,0.2]|        0.0|[36.0,0.0,0.0]|[1.0,0.0,0.0]|       0.0|\n",
      "|[4.8,3.4,1.6,0.2]|        0.0|[36.0,0.0,0.0]|[1.0,0.0,0.0]|       0.0|\n",
      "|[4.9,2.5,4.5,1.7]|        2.0| [0.0,1.0,0.0]|[0.0,1.0,0.0]|       1.0|\n",
      "|[4.9,3.1,1.5,0.1]|        0.0|[36.0,0.0,0.0]|[1.0,0.0,0.0]|       0.0|\n",
      "|[4.9,3.6,1.4,0.1]|        0.0|[36.0,0.0,0.0]|[1.0,0.0,0.0]|       0.0|\n",
      "|[5.0,2.3,3.3,1.0]|        1.0|[0.0,30.0,0.0]|[0.0,1.0,0.0]|       1.0|\n",
      "|[5.0,3.5,1.3,0.3]|        0.0|[36.0,0.0,0.0]|[1.0,0.0,0.0]|       0.0|\n",
      "|[5.1,3.3,1.7,0.5]|        0.0|[36.0,0.0,0.0]|[1.0,0.0,0.0]|       0.0|\n",
      "|[5.1,3.4,1.5,0.2]|        0.0|[36.0,0.0,0.0]|[1.0,0.0,0.0]|       0.0|\n",
      "|[5.1,3.5,1.4,0.2]|        0.0|[36.0,0.0,0.0]|[1.0,0.0,0.0]|       0.0|\n",
      "|[5.2,3.5,1.5,0.2]|        0.0|[36.0,0.0,0.0]|[1.0,0.0,0.0]|       0.0|\n",
      "|[5.4,3.4,1.7,0.2]|        0.0|[36.0,0.0,0.0]|[1.0,0.0,0.0]|       0.0|\n",
      "|[5.5,2.4,3.8,1.1]|        1.0|[0.0,30.0,0.0]|[0.0,1.0,0.0]|       1.0|\n",
      "|[5.5,2.5,4.0,1.3]|        1.0|[0.0,30.0,0.0]|[0.0,1.0,0.0]|       1.0|\n",
      "|[5.5,3.5,1.3,0.2]|        0.0|[36.0,0.0,0.0]|[1.0,0.0,0.0]|       0.0|\n",
      "|[5.6,2.5,3.9,1.1]|        1.0|[0.0,30.0,0.0]|[0.0,1.0,0.0]|       1.0|\n",
      "|[5.7,2.8,4.1,1.3]|        1.0|[0.0,30.0,0.0]|[0.0,1.0,0.0]|       1.0|\n",
      "|[5.7,2.8,4.5,1.3]|        1.0|[0.0,30.0,0.0]|[0.0,1.0,0.0]|       1.0|\n",
      "+-----------------+-----------+--------------+-------------+----------+\n",
      "only showing top 20 rows\n",
      "\n"
     ]
    }
   ],
   "source": [
    "prediction_result.show()"
   ]
  },
  {
   "cell_type": "code",
   "execution_count": 51,
   "id": "b5b2e9f7",
   "metadata": {},
   "outputs": [
    {
     "name": "stdout",
     "output_type": "stream",
     "text": [
      "+-----------------+-----------+----------+\n",
      "|    Input Feature|variety_num|Prediction|\n",
      "+-----------------+-----------+----------+\n",
      "|[4.4,3.2,1.3,0.2]|        0.0|       0.0|\n",
      "|[4.6,3.1,1.5,0.2]|        0.0|       0.0|\n",
      "|[4.7,3.2,1.3,0.2]|        0.0|       0.0|\n",
      "|[4.8,3.4,1.6,0.2]|        0.0|       0.0|\n",
      "|[4.9,2.5,4.5,1.7]|        2.0|       1.0|\n",
      "|[4.9,3.1,1.5,0.1]|        0.0|       0.0|\n",
      "|[4.9,3.6,1.4,0.1]|        0.0|       0.0|\n",
      "|[5.0,2.3,3.3,1.0]|        1.0|       1.0|\n",
      "|[5.0,3.5,1.3,0.3]|        0.0|       0.0|\n",
      "|[5.1,3.3,1.7,0.5]|        0.0|       0.0|\n",
      "|[5.1,3.4,1.5,0.2]|        0.0|       0.0|\n",
      "|[5.1,3.5,1.4,0.2]|        0.0|       0.0|\n",
      "|[5.2,3.5,1.5,0.2]|        0.0|       0.0|\n",
      "|[5.4,3.4,1.7,0.2]|        0.0|       0.0|\n",
      "|[5.5,2.4,3.8,1.1]|        1.0|       1.0|\n",
      "|[5.5,2.5,4.0,1.3]|        1.0|       1.0|\n",
      "|[5.5,3.5,1.3,0.2]|        0.0|       0.0|\n",
      "|[5.6,2.5,3.9,1.1]|        1.0|       1.0|\n",
      "|[5.7,2.8,4.1,1.3]|        1.0|       1.0|\n",
      "|[5.7,2.8,4.5,1.3]|        1.0|       1.0|\n",
      "+-----------------+-----------+----------+\n",
      "only showing top 20 rows\n",
      "\n"
     ]
    }
   ],
   "source": [
    "prediction_result.select('Input Feature','variety_num','Prediction').show()"
   ]
  },
  {
   "cell_type": "code",
   "execution_count": 52,
   "id": "dc8a4c6e",
   "metadata": {},
   "outputs": [
    {
     "name": "stdout",
     "output_type": "stream",
     "text": [
      "Accurancy 0.924173865350336\n",
      "Test error model 0.07582613464966403\n"
     ]
    }
   ],
   "source": [
    "from pyspark.ml.evaluation import MulticlassClassificationEvaluator\n",
    "evaluator=MulticlassClassificationEvaluator(labelCol=\"variety_num\",predictionCol='prediction')\n",
    "accuracy=evaluator.evaluate(prediction_result)\n",
    "print(\"Accurancy\",accuracy)\n",
    "print(\"Test error model\",(1-accuracy))"
   ]
  },
  {
   "cell_type": "code",
   "execution_count": 53,
   "id": "698def4b",
   "metadata": {},
   "outputs": [],
   "source": [
    "#from pyspark.ml.feature import IndexString\n",
    "#itos=IndexToString(inputCol='prediction',outputCol='Variety Category')\n",
    "#c=itos.transform(df2)\n",
    "#print(c.getInputCol(),\" - \",c.getOutputCol())"
   ]
  },
  {
   "cell_type": "code",
   "execution_count": 59,
   "id": "bf2c8bbc",
   "metadata": {},
   "outputs": [],
   "source": [
    "from pyspark.ml.classification import RandomForestClassifier\n",
    "dtcmodel=RandomForestClassifier(labelCol=\"variety_num\",featuresCol=\"Input Feature\")\n",
    "model=dtcmodel.fit(train)\n"
   ]
  },
  {
   "cell_type": "code",
   "execution_count": 58,
   "id": "2c16d3db",
   "metadata": {},
   "outputs": [
    {
     "name": "stdout",
     "output_type": "stream",
     "text": [
      "+-----------------+-----------+--------------------+--------------------+----------+\n",
      "|    Input Feature|variety_num|       rawPrediction|         probability|prediction|\n",
      "+-----------------+-----------+--------------------+--------------------+----------+\n",
      "|[4.4,3.2,1.3,0.2]|        0.0|      [20.0,0.0,0.0]|       [1.0,0.0,0.0]|       0.0|\n",
      "|[4.6,3.1,1.5,0.2]|        0.0|      [20.0,0.0,0.0]|       [1.0,0.0,0.0]|       0.0|\n",
      "|[4.7,3.2,1.3,0.2]|        0.0|      [20.0,0.0,0.0]|       [1.0,0.0,0.0]|       0.0|\n",
      "|[4.8,3.4,1.6,0.2]|        0.0|      [20.0,0.0,0.0]|       [1.0,0.0,0.0]|       0.0|\n",
      "|[4.9,2.5,4.5,1.7]|        2.0|[0.0,16.947368421...|[0.0,0.8473684210...|       1.0|\n",
      "|[4.9,3.1,1.5,0.1]|        0.0|      [20.0,0.0,0.0]|       [1.0,0.0,0.0]|       0.0|\n",
      "|[4.9,3.6,1.4,0.1]|        0.0|      [20.0,0.0,0.0]|       [1.0,0.0,0.0]|       0.0|\n",
      "|[5.0,2.3,3.3,1.0]|        1.0|[0.0,19.947368421...|[0.0,0.9973684210...|       1.0|\n",
      "|[5.0,3.5,1.3,0.3]|        0.0|      [20.0,0.0,0.0]|       [1.0,0.0,0.0]|       0.0|\n",
      "|[5.1,3.3,1.7,0.5]|        0.0|      [20.0,0.0,0.0]|       [1.0,0.0,0.0]|       0.0|\n",
      "|[5.1,3.4,1.5,0.2]|        0.0|      [20.0,0.0,0.0]|       [1.0,0.0,0.0]|       0.0|\n",
      "|[5.1,3.5,1.4,0.2]|        0.0|      [20.0,0.0,0.0]|       [1.0,0.0,0.0]|       0.0|\n",
      "|[5.2,3.5,1.5,0.2]|        0.0|      [20.0,0.0,0.0]|       [1.0,0.0,0.0]|       0.0|\n",
      "|[5.4,3.4,1.7,0.2]|        0.0|      [20.0,0.0,0.0]|       [1.0,0.0,0.0]|       0.0|\n",
      "|[5.5,2.4,3.8,1.1]|        1.0|[0.0,19.947368421...|[0.0,0.9973684210...|       1.0|\n",
      "|[5.5,2.5,4.0,1.3]|        1.0|[0.0,19.947368421...|[0.0,0.9973684210...|       1.0|\n",
      "|[5.5,3.5,1.3,0.2]|        0.0|      [20.0,0.0,0.0]|       [1.0,0.0,0.0]|       0.0|\n",
      "|[5.6,2.5,3.9,1.1]|        1.0|[0.0,19.947368421...|[0.0,0.9973684210...|       1.0|\n",
      "|[5.7,2.8,4.1,1.3]|        1.0|[0.0,19.947368421...|[0.0,0.9973684210...|       1.0|\n",
      "|[5.7,2.8,4.5,1.3]|        1.0|[0.0,19.947368421...|[0.0,0.9973684210...|       1.0|\n",
      "+-----------------+-----------+--------------------+--------------------+----------+\n",
      "only showing top 20 rows\n",
      "\n"
     ]
    }
   ],
   "source": [
    "prediction_result=model.transform(test)\n",
    "prediction_result.show()"
   ]
  },
  {
   "cell_type": "code",
   "execution_count": 60,
   "id": "19ff8b73",
   "metadata": {},
   "outputs": [
    {
     "name": "stdout",
     "output_type": "stream",
     "text": [
      "Accurancy 0.924173865350336\n",
      "Test error model 0.07582613464966403\n"
     ]
    }
   ],
   "source": [
    "evaluator=MulticlassClassificationEvaluator(labelCol=\"variety_num\",predictionCol='prediction')\n",
    "accuracy=evaluator.evaluate(prediction_result)\n",
    "print(\"Accurancy\",accuracy)\n",
    "print(\"Test error model\",(1-accuracy))"
   ]
  },
  {
   "cell_type": "code",
   "execution_count": null,
   "id": "70d623f5",
   "metadata": {},
   "outputs": [],
   "source": []
  }
 ],
 "metadata": {
  "kernelspec": {
   "display_name": "Python 3 (ipykernel)",
   "language": "python",
   "name": "python3"
  },
  "language_info": {
   "codemirror_mode": {
    "name": "ipython",
    "version": 3
   },
   "file_extension": ".py",
   "mimetype": "text/x-python",
   "name": "python",
   "nbconvert_exporter": "python",
   "pygments_lexer": "ipython3",
   "version": "3.9.7"
  }
 },
 "nbformat": 4,
 "nbformat_minor": 5
}
