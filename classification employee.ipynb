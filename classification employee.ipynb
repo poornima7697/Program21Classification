{
 "cells": [
  {
   "cell_type": "code",
   "execution_count": 12,
   "id": "5cb77708",
   "metadata": {},
   "outputs": [],
   "source": [
    "import findspark\n",
    "findspark.init()\n"
   ]
  },
  {
   "cell_type": "code",
   "execution_count": 13,
   "id": "bf67c6d3",
   "metadata": {},
   "outputs": [],
   "source": [
    "import pyspark\n",
    "from pyspark.sql import SparkSession\n",
    "spark=SparkSession.builder.appName(\"StudyApp\").getOrCreate()"
   ]
  },
  {
   "cell_type": "code",
   "execution_count": 31,
   "id": "07c4d44b",
   "metadata": {},
   "outputs": [
    {
     "name": "stdout",
     "output_type": "stream",
     "text": [
      "+---------+------+----------+-------------+------+------+----------------+--------------------+\n",
      "|FirstName|Gender| StartDate|LastLoginTime|Salary|Bonus |SeniorManagement|                Team|\n",
      "+---------+------+----------+-------------+------+------+----------------+--------------------+\n",
      "|   Thomas|  Male| 3/31/1996|      6:53 AM| 61933|  4.17|            true|             Finance|\n",
      "|    Maria|Female| 4/23/1993|     11:17 AM|  5689|11.858|           false|             Finance|\n",
      "|    Larry|  Male| 1/24/1998|      4:47 PM|  9894| 1.389|            true|               Legal|\n",
      "|   Dennis|  Male| 4/18/1987|      1:35 AM|115163|10.125|           false|               Legal|\n",
      "|     Ruby|Female| 4/18/1988|      2:35 AM| 65476|10.012|            true|             Product|\n",
      "|     Ruby|Female| 7/20/2015|     10:43 AM| 65476|10.012|            true|             Finance|\n",
      "|   Angela|Female| 7/20/2016|      6:29 AM| 95570|10.012|            true|         Engineering|\n",
      "|  Frances|Female| 7/20/2017|      6:51 AM|139852| 7.524|            true|Business Development|\n",
      "|   Louise|Female| 7/20/2018|      9:01 AM| 63241|15.132|            true|Business Development|\n",
      "|    Julie|Female|10/26/1997|      3:19 PM|102508|12.637|            true|               Legal|\n",
      "|  Brandon|  Male|10/26/1998|      1:08 AM|112807|17.492|            true|     Human Resources|\n",
      "|     Gary|  Male| 1/27/2008|     11:40 PM|109831| 5.831|           false|               Sales|\n",
      "| Kimberly|Female| 1/14/1999|      7:13 AM| 41426|14.543|            true|             Finance|\n",
      "|  Lillian|Female| 1/14/2000|      6:09 AM| 59414| 1.256|           false|             Product|\n",
      "|   Jeremy|  Male| 9/21/2010|      5:56 AM| 90370| 7.369|           false|     Human Resources|\n",
      "|    Shawn|  Male| 9/21/2011|      7:45 PM|111737| 6.414|           false|             Product|\n",
      "|    Diana|Female|10/23/1981|     10:27 AM|132940|19.082|           false|     Client Services|\n",
      "|    Donna|Female| 7/22/2010|      3:48 AM| 81014| 1.894|           false|             Product|\n",
      "|     Lois|Female| 4/22/1995|      7:18 PM| 64714| 4.934|            true|               Legal|\n",
      "|  Matthew|  Male| 4/22/1996|      2:12 AM|100612|13.645|           false|           Marketing|\n",
      "+---------+------+----------+-------------+------+------+----------------+--------------------+\n",
      "only showing top 20 rows\n",
      "\n"
     ]
    },
    {
     "data": {
      "text/plain": [
       "998"
      ]
     },
     "execution_count": 31,
     "metadata": {},
     "output_type": "execute_result"
    }
   ],
   "source": [
    "df=spark.read.csv(\"D:\\employees.csv\",header=True,inferSchema=True)\n",
    "df.show()\n",
    "df.count()"
   ]
  },
  {
   "cell_type": "code",
   "execution_count": 32,
   "id": "ee1dc43f",
   "metadata": {},
   "outputs": [
    {
     "name": "stdout",
     "output_type": "stream",
     "text": [
      "root\n",
      " |-- FirstName: string (nullable = true)\n",
      " |-- Gender: string (nullable = true)\n",
      " |-- StartDate: string (nullable = true)\n",
      " |-- LastLoginTime: string (nullable = true)\n",
      " |-- Salary: integer (nullable = true)\n",
      " |-- Bonus : double (nullable = true)\n",
      " |-- SeniorManagement: boolean (nullable = true)\n",
      " |-- Team: string (nullable = true)\n",
      "\n",
      "+--------------------+\n",
      "|                Team|\n",
      "+--------------------+\n",
      "|               Sales|\n",
      "|         Engineering|\n",
      "|Business Development|\n",
      "|             Finance|\n",
      "|     Client Services|\n",
      "|        Distribution|\n",
      "|               Legal|\n",
      "|           Marketing|\n",
      "|             Product|\n",
      "|     Human Resources|\n",
      "+--------------------+\n",
      "\n"
     ]
    }
   ],
   "source": [
    "df.printSchema()\n",
    "df.select('Team').distinct().show()\n",
    "#df.columns[:4]"
   ]
  },
  {
   "cell_type": "code",
   "execution_count": 33,
   "id": "442136bb",
   "metadata": {},
   "outputs": [],
   "source": [
    "#formating\n",
    "from pyspark.ml.feature import VectorAssembler \n",
    "from pyspark.ml.feature import StringIndexer\n"
   ]
  },
  {
   "cell_type": "code",
   "execution_count": 63,
   "id": "0403426c",
   "metadata": {},
   "outputs": [
    {
     "name": "stdout",
     "output_type": "stream",
     "text": [
      "+---------+------+---------+-------------+------+------+----------------+-------+--------+------------+\n",
      "|FirstName|Gender|StartDate|LastLoginTime|Salary|Bonus |SeniorManagement|   Team|Team_num|InputFeature|\n",
      "+---------+------+---------+-------------+------+------+----------------+-------+--------+------------+\n",
      "|   Thomas|  Male|3/31/1996|      6:53 AM| 61933|  4.17|            true|Finance|     2.0|   [61933.0]|\n",
      "|    Maria|Female|4/23/1993|     11:17 AM|  5689|11.858|           false|Finance|     2.0|    [5689.0]|\n",
      "|    Larry|  Male|1/24/1998|      4:47 PM|  9894| 1.389|            true|  Legal|     5.0|    [9894.0]|\n",
      "|   Dennis|  Male|4/18/1987|      1:35 AM|115163|10.125|           false|  Legal|     5.0|  [115163.0]|\n",
      "|     Ruby|Female|4/18/1988|      2:35 AM| 65476|10.012|            true|Product|     3.0|   [65476.0]|\n",
      "+---------+------+---------+-------------+------+------+----------------+-------+--------+------------+\n",
      "only showing top 5 rows\n",
      "\n"
     ]
    }
   ],
   "source": [
    "va=VectorAssembler(inputCols=['Salary'],outputCol='InputFeature')\n",
    "indexer=StringIndexer(inputCol='Team',outputCol='Team_num')#conver into integer\n",
    "df1=indexer.fit(df).transform(df)\n",
    "df2=va.transform(df1)\n",
    "df2.show(5)"
   ]
  },
  {
   "cell_type": "code",
   "execution_count": 46,
   "id": "968df1d2",
   "metadata": {},
   "outputs": [
    {
     "name": "stdout",
     "output_type": "stream",
     "text": [
      "+------------+--------+\n",
      "|InputFeature|Team_num|\n",
      "+------------+--------+\n",
      "|   [61933.0]|     2.0|\n",
      "|    [5689.0]|     2.0|\n",
      "|    [9894.0]|     5.0|\n",
      "|  [115163.0]|     5.0|\n",
      "|   [65476.0]|     3.0|\n",
      "+------------+--------+\n",
      "only showing top 5 rows\n",
      "\n"
     ]
    }
   ],
   "source": [
    "finaldata=df2.select('InputFeature',\"Team_num\")\n",
    "finaldata.show(5)"
   ]
  },
  {
   "cell_type": "code",
   "execution_count": 47,
   "id": "b4231f69",
   "metadata": {},
   "outputs": [],
   "source": [
    "train,test=finaldata.randomSplit([0.70,0.30])"
   ]
  },
  {
   "cell_type": "code",
   "execution_count": 48,
   "id": "32b00719",
   "metadata": {},
   "outputs": [],
   "source": [
    "from pyspark.ml.classification import DecisionTreeClassifier\n",
    "dtcmodel=DecisionTreeClassifier(labelCol=\"Team_num\",featuresCol=\"InputFeature\")\n",
    "model=dtcmodel.fit(train)"
   ]
  },
  {
   "cell_type": "code",
   "execution_count": 49,
   "id": "7d8075d6",
   "metadata": {},
   "outputs": [
    {
     "data": {
      "text/plain": [
       "DecisionTreeClassificationModel: uid=DecisionTreeClassifier_6e7af4734286, depth=5, numNodes=29, numClasses=10, numFeatures=1"
      ]
     },
     "execution_count": 49,
     "metadata": {},
     "output_type": "execute_result"
    }
   ],
   "source": [
    "model"
   ]
  },
  {
   "cell_type": "code",
   "execution_count": 50,
   "id": "39891bfe",
   "metadata": {},
   "outputs": [],
   "source": [
    "prediction_result=model.transform(test)"
   ]
  },
  {
   "cell_type": "code",
   "execution_count": 51,
   "id": "8ad1f2bc",
   "metadata": {},
   "outputs": [
    {
     "name": "stdout",
     "output_type": "stream",
     "text": [
      "+------------+--------+--------------------+--------------------+----------+\n",
      "|InputFeature|Team_num|       rawPrediction|         probability|prediction|\n",
      "+------------+--------+--------------------+--------------------+----------+\n",
      "|   [35013.0]|     3.0|[18.0,16.0,16.0,1...|[0.13533834586466...|       0.0|\n",
      "|   [35477.0]|     8.0|[18.0,16.0,16.0,1...|[0.13533834586466...|       0.0|\n",
      "|   [35575.0]|     9.0|[18.0,16.0,16.0,1...|[0.13533834586466...|       0.0|\n",
      "|   [35633.0]|     9.0|[18.0,16.0,16.0,1...|[0.13533834586466...|       0.0|\n",
      "|   [35884.0]|     6.0|[18.0,16.0,16.0,1...|[0.13533834586466...|       0.0|\n",
      "|   [36643.0]|     4.0|[18.0,16.0,16.0,1...|[0.13533834586466...|       0.0|\n",
      "|   [36697.0]|     6.0|[18.0,16.0,16.0,1...|[0.13533834586466...|       0.0|\n",
      "|   [36837.0]|     4.0|[18.0,16.0,16.0,1...|[0.13533834586466...|       0.0|\n",
      "|   [36946.0]|     7.0|[18.0,16.0,16.0,1...|[0.13533834586466...|       0.0|\n",
      "|   [37076.0]|     1.0|[18.0,16.0,16.0,1...|[0.13533834586466...|       0.0|\n",
      "|   [37919.0]|     5.0|[18.0,16.0,16.0,1...|[0.13533834586466...|       0.0|\n",
      "|   [38078.0]|     3.0|[18.0,16.0,16.0,1...|[0.13533834586466...|       0.0|\n",
      "|   [38275.0]|     9.0|[18.0,16.0,16.0,1...|[0.13533834586466...|       0.0|\n",
      "|   [38375.0]|     5.0|[18.0,16.0,16.0,1...|[0.13533834586466...|       0.0|\n",
      "|   [38712.0]|     1.0|[18.0,16.0,16.0,1...|[0.13533834586466...|       0.0|\n",
      "|   [39833.0]|     7.0|[18.0,16.0,16.0,1...|[0.13533834586466...|       0.0|\n",
      "|   [40119.0]|     8.0|[18.0,16.0,16.0,1...|[0.13533834586466...|       0.0|\n",
      "|   [40341.0]|     2.0|[18.0,16.0,16.0,1...|[0.13533834586466...|       0.0|\n",
      "|   [40837.0]|     1.0|[18.0,16.0,16.0,1...|[0.13533834586466...|       0.0|\n",
      "|   [41126.0]|     6.0|[18.0,16.0,16.0,1...|[0.13533834586466...|       0.0|\n",
      "+------------+--------+--------------------+--------------------+----------+\n",
      "only showing top 20 rows\n",
      "\n"
     ]
    }
   ],
   "source": [
    "prediction_result.show()"
   ]
  },
  {
   "cell_type": "code",
   "execution_count": 53,
   "id": "32834ca9",
   "metadata": {},
   "outputs": [
    {
     "name": "stdout",
     "output_type": "stream",
     "text": [
      "+------------+--------+----------+\n",
      "|InputFeature|Team_num|Prediction|\n",
      "+------------+--------+----------+\n",
      "|   [35013.0]|     3.0|       0.0|\n",
      "|   [35477.0]|     8.0|       0.0|\n",
      "|   [35575.0]|     9.0|       0.0|\n",
      "|   [35633.0]|     9.0|       0.0|\n",
      "|   [35884.0]|     6.0|       0.0|\n",
      "|   [36643.0]|     4.0|       0.0|\n",
      "|   [36697.0]|     6.0|       0.0|\n",
      "|   [36837.0]|     4.0|       0.0|\n",
      "|   [36946.0]|     7.0|       0.0|\n",
      "|   [37076.0]|     1.0|       0.0|\n",
      "|   [37919.0]|     5.0|       0.0|\n",
      "|   [38078.0]|     3.0|       0.0|\n",
      "|   [38275.0]|     9.0|       0.0|\n",
      "|   [38375.0]|     5.0|       0.0|\n",
      "|   [38712.0]|     1.0|       0.0|\n",
      "|   [39833.0]|     7.0|       0.0|\n",
      "|   [40119.0]|     8.0|       0.0|\n",
      "|   [40341.0]|     2.0|       0.0|\n",
      "|   [40837.0]|     1.0|       0.0|\n",
      "|   [41126.0]|     6.0|       0.0|\n",
      "+------------+--------+----------+\n",
      "only showing top 20 rows\n",
      "\n"
     ]
    }
   ],
   "source": [
    "prediction_result.select('InputFeature','Team_num','Prediction').show()"
   ]
  },
  {
   "cell_type": "code",
   "execution_count": 56,
   "id": "f54bc6f9",
   "metadata": {},
   "outputs": [
    {
     "name": "stdout",
     "output_type": "stream",
     "text": [
      "Accurancy 0.08894789246306493\n",
      "Test error of model 0.9110521075369351\n"
     ]
    }
   ],
   "source": [
    "from pyspark.ml.evaluation import MulticlassClassificationEvaluator\n",
    "evaluator=MulticlassClassificationEvaluator(labelCol=\"Team_num\",predictionCol='prediction')\n",
    "accuracy=evaluator.evaluate(prediction_result)\n",
    "print(\"Accurancy\",accuracy)\n",
    "print(\"Test error of model\",(1-accuracy))"
   ]
  },
  {
   "cell_type": "code",
   "execution_count": 59,
   "id": "975f84c2",
   "metadata": {},
   "outputs": [],
   "source": [
    "from pyspark.ml.classification import RandomForestClassifier\n",
    "dtcmodel=RandomForestClassifier(labelCol=\"Team_num\",featuresCol=\"InputFeature\")\n",
    "model=dtcmodel.fit(train)\n"
   ]
  },
  {
   "cell_type": "code",
   "execution_count": 60,
   "id": "7c0c71a6",
   "metadata": {},
   "outputs": [
    {
     "name": "stdout",
     "output_type": "stream",
     "text": [
      "+------------+--------+--------------------+--------------------+----------+\n",
      "|InputFeature|Team_num|       rawPrediction|         probability|prediction|\n",
      "+------------+--------+--------------------+--------------------+----------+\n",
      "|   [35013.0]|     3.0|[1.79152548885956...|[0.08957627444297...|       8.0|\n",
      "|   [35477.0]|     8.0|[1.79152548885956...|[0.08957627444297...|       8.0|\n",
      "|   [35575.0]|     9.0|[1.79152548885956...|[0.08957627444297...|       8.0|\n",
      "|   [35633.0]|     9.0|[1.79152548885956...|[0.08957627444297...|       8.0|\n",
      "|   [35884.0]|     6.0|[1.79152548885956...|[0.08957627444297...|       8.0|\n",
      "|   [36643.0]|     4.0|[1.79152548885956...|[0.08957627444297...|       8.0|\n",
      "|   [36697.0]|     6.0|[1.79152548885956...|[0.08957627444297...|       8.0|\n",
      "|   [36837.0]|     4.0|[1.79152548885956...|[0.08957627444297...|       8.0|\n",
      "|   [36946.0]|     7.0|[1.79152548885956...|[0.08957627444297...|       8.0|\n",
      "|   [37076.0]|     1.0|[1.79152548885956...|[0.08957627444297...|       8.0|\n",
      "|   [37919.0]|     5.0|[1.79152548885956...|[0.08957627444297...|       8.0|\n",
      "|   [38078.0]|     3.0|[2.52106331574802...|[0.12605316578740...|       9.0|\n",
      "|   [38275.0]|     9.0|[2.52106331574802...|[0.12605316578740...|       9.0|\n",
      "|   [38375.0]|     5.0|[2.52106331574802...|[0.12605316578740...|       9.0|\n",
      "|   [38712.0]|     1.0|[2.52106331574802...|[0.12605316578740...|       9.0|\n",
      "|   [39833.0]|     7.0|[2.52106331574802...|[0.12605316578740...|       9.0|\n",
      "|   [40119.0]|     8.0|[2.52106331574802...|[0.12605316578740...|       9.0|\n",
      "|   [40341.0]|     2.0|[2.52106331574802...|[0.12605316578740...|       9.0|\n",
      "|   [40837.0]|     1.0|[2.52106331574802...|[0.12605316578740...|       9.0|\n",
      "|   [41126.0]|     6.0|[2.52106331574802...|[0.12605316578740...|       9.0|\n",
      "+------------+--------+--------------------+--------------------+----------+\n",
      "only showing top 20 rows\n",
      "\n"
     ]
    }
   ],
   "source": [
    "prediction_result=model.transform(test)\n",
    "prediction_result.show()"
   ]
  },
  {
   "cell_type": "code",
   "execution_count": 61,
   "id": "726359a3",
   "metadata": {},
   "outputs": [
    {
     "name": "stdout",
     "output_type": "stream",
     "text": [
      "Accurancy 0.08682118197787979\n",
      "Test error model 0.9131788180221202\n"
     ]
    }
   ],
   "source": [
    "evaluator=MulticlassClassificationEvaluator(labelCol=\"Team_num\",predictionCol='prediction')\n",
    "accuracy=evaluator.evaluate(prediction_result)\n",
    "print(\"Accurancy\",accuracy)\n",
    "print(\"Test error model\",(1-accuracy))"
   ]
  },
  {
   "cell_type": "code",
   "execution_count": null,
   "id": "085eb6ef",
   "metadata": {},
   "outputs": [],
   "source": []
  }
 ],
 "metadata": {
  "kernelspec": {
   "display_name": "Python 3 (ipykernel)",
   "language": "python",
   "name": "python3"
  },
  "language_info": {
   "codemirror_mode": {
    "name": "ipython",
    "version": 3
   },
   "file_extension": ".py",
   "mimetype": "text/x-python",
   "name": "python",
   "nbconvert_exporter": "python",
   "pygments_lexer": "ipython3",
   "version": "3.9.7"
  }
 },
 "nbformat": 4,
 "nbformat_minor": 5
}
